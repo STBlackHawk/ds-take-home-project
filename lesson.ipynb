{
 "cells": [
  {
   "cell_type": "code",
   "execution_count": 1,
   "metadata": {},
   "outputs": [],
   "source": [
    "import numpy as np\n",
    "import pandas as pd"
   ]
  },
  {
   "cell_type": "markdown",
   "metadata": {},
   "source": [
    "# Variance, Covariance, and Correlation\n",
    "\n",
    "## Introduction \n",
    "\n",
    "In this lesson, we shall look at how **Variance** of a random variable is used to calculate **Covariance** and **Correlation**, two key measures used in Statistics for finding the relationships between random variables. These measures help us identify the degree to which two sets of data tend to deviate from their expected value (i.e., mean), similarly. Based on these measures, we can identify if two variables are dependent on each other, and to what extent. This lesson will help you develop a conceptual understanding, necessary calculations, and some precautions while using these measures. \n",
    "\n",
    "Let's start by a simple example and demonstration to show you what is Correlation and Covariance between two random variables:\n",
    "\n",
    "We have two random variable Var1 and Var2, and we want to see the relationship between each other"
   ]
  },
  {
   "cell_type": "code",
   "execution_count": 36,
   "metadata": {},
   "outputs": [
    {
     "name": "stdout",
     "output_type": "stream",
     "text": [
      "Var1:\n",
      "[1 2 2 3 4]\n",
      "Var2:\n",
      "[0 0 2 4 4]\n",
      "Correlation between Var1 and Var2 is: [32]\n",
      "Covariance between Var1 and Var2 is:\n",
      "2.0\n"
     ]
    }
   ],
   "source": [
    "Var1 = np.random.randint(0,5,5)\n",
    "Var2 = np.random.randint(0,5,5)\n",
    "Var1.sort()\n",
    "Var2.sort()\n",
    "# we calculate the correlation using a library to just demostrate, later we will walk through a formula\n",
    "#of the correlation\n",
    "print('Var1:', Var1, 'Var2:', Var2, sep='\\n')\n",
    "print('Correlation between Var1 and Var2 is:',np.correlate(Var1, Var2))\n",
    "print('Covariance between Var1 and Var2 is:', np.cov(np.stack((Var1,Var2), axis=0))[0][1], sep='\\n')"
   ]
  },
  {
   "cell_type": "markdown",
   "metadata": {},
   "source": [
    "Now for better understanding what these numbers represent lets walk through the lesson."
   ]
  },
  {
   "cell_type": "markdown",
   "metadata": {},
   "source": [
    "## Objectives\n",
    "\n",
    "You will be able to\n",
    "\n",
    "* Understand and explain data variance and how it relates to Standard Deviation\n",
    "* Understand and calculate Covariance and Correlation between two random variables\n",
    "* Visualize and interpret the results of Covariance and Correlation\n",
    "\n",
    "\n",
    "## What is Standard Deviation\n",
    "Before we explain the Variance we need to understand **Standard Deviation** of a random variable. Standard Deviation refers to the __expectatoin of the distance of a random variable from its mean__.\n",
    "let's walk through the example above example:"
   ]
  },
  {
   "cell_type": "code",
   "execution_count": 37,
   "metadata": {},
   "outputs": [
    {
     "name": "stdout",
     "output_type": "stream",
     "text": [
      "we expect a random variable from Var1 have the distance of: 1.019803902718557\n"
     ]
    }
   ],
   "source": [
    "print('we expect a random variable from Var1 have the distance of:', Var1.std())"
   ]
  },
  {
   "cell_type": "markdown",
   "metadata": {},
   "source": [
    "\n",
    "\n",
    "\n",
    "## What is Variance ($\\sigma^2$)\n",
    "\n",
    "Now before we talk about covariance, it is imperative that we get some idea around **Variance** of a random variable. Variance refers to the __expectatoin of the squared distance(deviation) of a random variable from its mean__.\n",
    "\n",
    ">__In other words if we have a set of random variables that they have specific distribution, the next number that that randomly comes from that distribution we expect to have a squared distance from the mean which is equal to variance__.\n",
    "Continuing the example above example:\n",
    "Our Var1 set is [2,2,3,4,4]. This a random variable with a distribution. So the next number that comes up from the same distribution we expected to have a squared distance of $\\sigma^2$ from the mean."
   ]
  },
  {
   "cell_type": "code",
   "execution_count": 38,
   "metadata": {},
   "outputs": [
    {
     "name": "stdout",
     "output_type": "stream",
     "text": [
      "we expect the a random variable from Var1 have the square distance of: 1.04\n"
     ]
    }
   ],
   "source": [
    "print('we expect the a random variable from Var1 have the square distance of:', Var1.var())"
   ]
  },
  {
   "cell_type": "markdown",
   "metadata": {},
   "source": [
    "#### In other words\n",
    "\n",
    "> __Variance is a measure used to quantify how much a random variable deviates from its mean value__. \n",
    "\n",
    "When we calculate variance, we are essentially asking, \"__Given the relationship of all given data points, how much distant from mean do we expect the next data point to be?__\"  This \"distance\" is called the **error term**, and it's what variance is measuring. \n",
    "\n",
    "Variance is shown using notatioin $\\sigma^2$. Previously, we have seen $\\sigma$ as a measure of standard deviation within a given dataset. Remember standard deviation is also a measure of spread of data. __Variance is simply the square of standard deviation (Or we could say standard deviation is is the square root of variance)__. \n",
    "\n",
    "### Example Use Case\n",
    "\n",
    "For example, a simple application of this measure could be associating probabilities with predicted future events in a market research activity, identifying them as \"very likely\" or \"unlikely\" etc. Most people are risk averse, in that they wish to minimize the amount of risk they must endure to earn a certain level of expected return. If investors were indifferent to risk, they would not be influenced by the differences between stock A and stock B above, whereas the risk-averse investor would clearly prefer stock A. Therefore, most people want to know the range or dispersion(spread/deviation as we termed it earlier) of possible outcomes, as well as the likelihood of certain outcomes occurring. Variance measure is a great way to find all of the possible values and likelihoods that a random variable can take within a given range defined by the underlying data. \n",
    "\n",
    "\n",
    "Consider the following graphs for Conglomo, Inc. and Bilco, Inc. These graphs show the theoretical frequency distributions of the monthly returns for each firm's common stock as though the returns were normally distributed.\n",
    "\n",
    "<img src=\"images/var.png\" width=400>\n",
    "\n",
    "Conglomo's distribution of returns is more concentrated than Bilco's, as illustrated by Conglomo's relatively wider bell curve. A more concentrated distribution is defined as having a smaller standard deviation. The distribution curve appears higher, steeper, and narrower because more observations are occurring close to the expected return. Bilco's distribution is rather flat, reflecting that its returns are less concentrated, or more dispersed, than those of Conglomo Inc.\n",
    "\n",
    "### Interpreting Variance \n",
    "\n",
    "A variance value of zero represents that all of the values within a data set are identical, while all variances that are not equal to zero will come in the form of positive numbers. The larger the variance, the more spread in the data set. A large variance means that the numbers in a set are far from the mean and each other. A small variance means that the numbers are closer together in value. \n",
    "### How to Calculate Variance? \n",
    "\n",
    "Variance is calculated by:\n",
    "1. Taking the differences between each element in a data set and the mean, \n",
    "2. Squaring those differences to give it a positive value\n",
    "3. Dividing the sum of the resulting squares by the number of values in the set.\n",
    "\n",
    "$$\\sigma^2 = \\frac{\\sum(x-\\mu)^2}{n}$$\n",
    "\n",
    "As our example:\n",
    "\n",
    "$$ \\mu = \\frac{1+2+2+3+4}{5} = 2.4$$\n",
    "$$ \\sigma^2 = \\frac{(1-2.4)^{2} + (2-2.4)^{2} + (2-2.4)^{2} + (3-2.4)^{2} + (4-2.4)^{2}}{5}$$\n",
    "$$ \\sigma^2 = 1.04$$\n",
    "\n",
    "Here, $x$ represents an individual data point and $\\mu$ represents the mean of the data points. $N$ is the total number of data points. Remember that while calculating a sample variance in order to estimate a population variance, the denominator of the variance equation becomes n - 1. This removes bias from the estimation, as it prohibits the researcher from underestimating the population variance.\n",
    "\n",
    "Following illustration summarizes how spread of data around mean (10) relates to the variance. \n",
    "\n",
    "<img src=\"images/var2.png\" width=500>"
   ]
  },
  {
   "cell_type": "markdown",
   "metadata": {},
   "source": [
    "\n",
    "\n",
    "\n",
    "## Covariance ($\\sigma_{xy}$)\n",
    "\n",
    "Now that we know what variance is what quantity it measures imagine calculating the variance of two random variables to get some idea on how they change together (or stay the same) considering all included values.\n",
    "\n",
    "In Stats, If we are trying to figure out how two random variables tend to **vary** together, we are effectively talking about **Covariance** between these variables. Covariance provides an insight into how two variables are __related__ to one another. \n",
    "\n",
    "More precisely, Covariance refers to:\n",
    "> The measure of how two random variables in a data set will __change together__. \n",
    "  \n",
    "### How to calculate Covariance?\n",
    "In essence, covariance is used to measure **how much two variables change together**, and its calculated using the formula:\n",
    "\n",
    "\n",
    "$$ \\large \\sigma_{XY} = \\frac{\\sum_{i=1}^{n}(x_i -\\mu_x)(y_i - \\mu_y)}{n}$$\n",
    "\n",
    "Example:\n",
    "\n",
    "$$\\mu_{var1} = 2.4$$\n",
    "\n",
    "$$\\mu_{var2} = 2$$\n",
    "\n",
    "$$\\large \\sigma_{XY} = \\frac{(1-2.4)(0-2)+(2-2.4)(0-2)+(2-2.4)(2-2)+(3-2.4)(4-2)+(4-2.4)(4-2)}{4}$$\n",
    "\n",
    "$$\\large \\sigma_{XY} = 2.0$$\n",
    "Be aware that since we are calculating Covariance of two **samples** we use n-1 instead of n\n",
    "\n",
    "Here $X$ and $Y$ are two random variables having n elements each. We want to calculate ___how much $Y$ depends on $X$___ (or vice-versa), by measuring how values in $Y$ change with observed changes in $X$ values. \n",
    "\n",
    "> This makes $X$ our __independent variable__ and $Y$, the __dependent variable__.  \n",
    "\n",
    "$xi$ = ith element of variable $X$\n",
    "\n",
    "$yi$ = ith element of variable $Y$\n",
    "\n",
    "$n$ = number of data points (__$n$ must be same for $X$ and $Y$__)\n",
    "\n",
    "$\\mu_x$ = mean of the independent variable $X$\n",
    "\n",
    "$\\mu_y$ = mean of the dependent variable $Y$\n",
    "\n",
    "$\\sigma_{XY}$ = Covariance between $X$ and $Y$\n",
    "\n",
    "**Also it needs to be mentioned that if we put X=Y, meaning the Covariance of X with itself will be the variance of X**\n",
    "\n",
    "*We can see that above formula calculates the variance of $X$ and $Y$ (check the variance formula above) by multiplying the deviation of each of their corresponding elements. Hence the term __Co-Variance__.*\n",
    "\n",
    "As our example goes:\n",
    "\n",
    "\n",
    "### Interpreting Covariance values \n",
    "\n",
    "* A positive covariance indicates that **higher than average** values of one variable tend to pair with higher than average values of the other variable and lower than average values of one variable tend to pair with **lower than average** values of the other variable.\n",
    "\n",
    "* Negative Covariance indicates that **higher than average** values of one variable tend to pair with **lower than average** values of the other variable and vice versa.  \n",
    "\n",
    "* If two variables are independent of each other the Covariance will be zero. However, zero covariance is not an indication of the independence of two variables. A nonlinear relationship can exist that still would result in a covariance value of zero.\n",
    "\n",
    "This behavior can be further explained using the scatter plots below\n",
    "<img src=\"images/covariance.gif\" width=500>\n",
    "\n",
    "\n",
    "\n",
    "A large negative covariance value shows an inverse relationship between values at x and y-axes. i.e. y decreases as x increases. The scatter plot on the left shows this. The middle scatter plot shows values spread all over the plot, reflecting the fact that variables on x and y-axes cannot be related in terms of how they vary together. The covariance value for such variables would be very close to zero. \n",
    "\n",
    "In the scatter plot on the right, we see a strong relationship between values at x and y axes, i.e., y increases as x increases. Moreover, in the scatter plot, we can see that two variables that have a covariance close to zero but they have a nonlinear relationship together.\n",
    "\n",
    ">__Covariance is not standardized. Therefore, covariance values can range from negative infinity to positive infinity.__"
   ]
  },
  {
   "cell_type": "code",
   "execution_count": 40,
   "metadata": {},
   "outputs": [],
   "source": [
    "%matplotlib inline\n",
    "import matplotlib\n",
    "import seaborn as sns\n",
    "sns.set()\n",
    "matplotlib.rcParams['figure.dpi'] = 144"
   ]
  },
  {
   "cell_type": "code",
   "execution_count": 41,
   "metadata": {},
   "outputs": [
    {
     "data": {
      "image/png": "[encoded data removed]",
      "text/plain": [
       "<Figure size 864x576 with 1 Axes>"
      ]
     },
     "metadata": {},
     "output_type": "display_data"
    }
   ],
   "source": [
    "from IPython import display\n",
    "from sklearn.externals.six import StringIO\n",
    "import numpy as np\n",
    "from matplotlib import pylab as plt\n",
    " \n",
    "# Create a random dataset\n",
    "rng = np.random.RandomState(42) # fix the seed so the result are stable\n",
    "N_points = 400\n",
    "X = np.sort(5 * rng.rand(N_points, 1), axis=0)\n",
    "y = np.sin(X).ravel() + .4 * (0.5 - rng.rand(N_points))\n",
    "\n",
    "plt.plot(X, y, 'b.')\n",
    "plt.xlabel('Data')\n",
    "plt.xlabel('X')\n",
    "plt.ylabel('Y')\n",
    "plt.show()"
   ]
  },
  {
   "cell_type": "markdown",
   "metadata": {},
   "source": [
    "\n",
    "\n",
    "## Correlation \n",
    "\n",
    "Above, we saw how covariance could identify the degree to which two random variables tend to vary together while using a formulation that depends on the units of $X$ and $Y$ variables. During data analysis, covariance measure cannot be directly used in data comparison as different experiments may contain underlying data, measured in different units. For this, we need to normalize this degree of variation into a standard unit, with interpretable results independent of the units of data. We achieve this with a derived normalized measure, called correlation. \n",
    "\n",
    "Correlation is defined as covariance, normalized by the product of a standard deviation of $X$ and $Y$. This normalization helps us set the scale from -1 to 1. So the correlation between 𝑋 and Y can be calculated from different formulas one would be \"Pearson's correlation coefficient,\" commonly called \"the correlation coefficient\" for **Population** which is calculated as:\n",
    "\n",
    "$$Correlation(X,Y) = \\frac{\\sigma_{X,Y}}{\\sigma_X\\sigma_Y}$$\n",
    "\n",
    ">When two random variables **Correlate**, this reflects that the change in one item **effects** the change in the values of the second variable. \n",
    "\n",
    "A correlation value of precisely 1.0 means there is a perfect positive relationship between the two variables. For a positive increase in one variable, there is also a positive increase in the second variable. A value of -1.0 means there is a perfect negative relationship between the two variables. This shows that the variables move in opposite directions - for a positive increase in one variable, there is a decrease in the second variable. \n",
    "\n",
    "In data science practice, we typically to look at correlation rather than covariance because it is more interpretable since it does not depend on the scale of either random variable involved.\n",
    "\n",
    "\n",
    "### Use Cases\n",
    "\n",
    "\n",
    "#### Social Media and Websites\n",
    "Digital publishers want to maximize their understanding of the potential relationship between social media activity and visits to their website. For example, the digital publisher runs the correlation report between hourly Twitter mentions and visits for a two week period. The correlation is found to be r = 0.28, which indicates a medium, positive relationship between Twitter mentions and website visits.\n",
    "\n",
    "#### Optimization for E-retailers\n",
    "E-retailers are interested in driving increased revenue. For example, an e-retailer wants to compare a number of secondary success events (e.g., file downloads, product detail page views, internal search click-throughs, etc.) with weekly web revenue. They can quickly identify internal search click-throughs as having the highest correlation, which may indicate an area for optimization.\n",
    "\n",
    "### Types of Correlation Measures\n",
    "\n",
    "__Coefficient of correlation__, r, called the linear correlation coefficient, measures the strength and the direction of a linear relationship between two variables. As mentioned before also called as __Pearson correlation coefficient__. \n",
    "\n",
    "In statistics, we measure four types of correlations for detailed relationship analysis: \n",
    "* Pearson correlation\n",
    "* Kendall Rank correlation \n",
    "* Spearman correlation\n",
    "* Point-Biserial correlation. \n",
    "\n",
    "\n",
    "For now, we shall focus on the Pearson correlation as it is the go-to correlation measure for most needs. \n",
    "\n",
    "__Pearson r__ correlation is the most widely used correlation statistic to measure the degree of the relationship between two linearly related variables. For the __Pearson r__  there are some assumptions.\n",
    "The assumptions are as follows: level of measurement, related pairs, absence of outliers, normality of variables, linearity, and homoscedasticity.\n",
    "\n",
    "Level of measurement refers to each variable. For a Pearson correlation, each variable should be continuous.  If one or both of the variables are ordinal in measurement, then a Spearman correlation could be conducted instead.\n",
    "Related pairs refer to the pairs of variables. Each participant or observation should have a pair of values. So if the correlation was between weight and height, then each observation used should have both a weight and a height value.\n",
    "Absence of outliers refers to not having outliers in either variable. Having an outlier can skew the results of the correlation by pulling the line of best fit formed by the correlation too far in one direction or another.  Typically, an outlier is defined as a value that is 3.29 standard deviations from the mean, or a standardized value of less than ±3.29.\n",
    "Linearity and homoscedasticity refer to the shape of the values formed by the scatterplot. For linearity, a “straight line” relationship between the variable should be formed.  If a line were to be drawn between all the dots going from left to right, the line should be straight and not curved.  Homoscedasticity refers to the distance between the points to that straight line. The shape of the scatterplot should be tube-like in shape. If the shape is cone-like, then homoskedasticity would not be met.\n",
    "\n",
    "\n",
    "\n",
    "### Calculating Coefficient of Correlation (r)\n",
    "\n",
    "Pearson Correlation (r) for **Sample** is calculated using following formula :\n",
    "\n",
    "$$ r_{xy} = \\frac{\\sum_{i=1}^{n}(x_i -\\bar{x})(y_i - \\bar{y})} {\\sqrt{(\\sum_{i=1}^{n}x_i - \\bar{x})^2 (\\sum_{i=1}^{n}y_i-\\bar{y})^2}}$$\n",
    "\n",
    "So just like in the case of covariance,  $X$ and $Y$ are two random variables and we have a sample of n elements of each. \n",
    "\n",
    "\n",
    "$xi$ = ith element of variable $X$\n",
    "\n",
    "$yi$ = ith element of variable $Y$\n",
    "\n",
    "$n$ = number of data points (__$n$ must be same for $X$ and $Y$__)\n",
    "\n",
    "$\\bar{x}$ = mean of the sample of the independent variable $X$\n",
    "\n",
    "$\\bar{y}$ = mean of the sample of the dependent variable $Y$\n",
    "\n",
    "$r_{xy}$ = Calculated Pearson Correlation\n",
    "\n",
    "\n",
    "Here x and y are the random variables, $\\bar{x}$ and $\\bar{y}$ are the mean values for both x and y. A detailed mathematical insight into this equation is available [in this paper](http://www.hep.ph.ic.ac.uk/~hallg/UG_2015/Pearsons.pdf)\n",
    "\n",
    "### Interpreting Correlation values\n",
    "\n",
    "> __Correlation formula shown above always gives values in a range between -1 and 1__\n",
    "\n",
    "If two variables have a correlation of +0.9,  this means the change in one item results in an almost similar change to another item. A correlation value of -0.9 means that the change is one variable results as an opposite change in the other variable. A Pearson correlation near 0 would be no effect. Here are some example of Pearson correlation calculations as scatter plots. \n",
    "![](pearson_2.png)\n",
    "\n",
    "Think about stock markets in terms of correlation. All the stock market indexes tend to move together in similar directions. When the DOW Jones loses 5%, the S&P 500 usually loses around 5%. When the DOW Jones gains 5%, the S&P 500 usually gains around 5% because they are **positively correlated**.\n",
    "\n",
    "On the other hand, there could also be negative correlation where you might observe that as the DOW Jones loses 5% of its value, Gold might gain 5%. Alternatively, if the Dow Jones gains 5% of its value, Gold may lose 5% of its value. That's **negative correlation**. \n",
    "\n",
    "For a better demonstration of Pearsons Correlation you can look at the picture below. \n",
    "\n",
    "<img src=\"images/covariance.gif\" width=500>\n",
    "\n",
    "**It it also worth mentioning again that Pearson Correlation equal to zero DOSE NOT indicate that there is no relation ship between two variables. INDICATES that there is no LINEAR relationship between two variables**\n",
    "\n",
    "### So how do these measures relate to each other?\n",
    "\n",
    "Are Covariance and Correlation The Same Thing? Simply put, no.\n",
    "\n",
    "While both covariance and correlation indicate whether variables are positively or negatively related to each other, they are not considered to be the same. This is because correlation also informs about the degree to which the variables tend to move together. \n",
    "\n",
    "Covariance is used to measure variables that have different units of measurement. By leveraging covariance, analysts are able to determine whether units are increasing or decreasing, but they are unable to solidify the degree to which the variables are moving together since covariance does not use one standardized unit of measurement.\n",
    "\n",
    "Correlation, on the other hand, standardizes the measure of interdependence between two variables and informs researchers as to how closely the two variables move together.\n",
    "\n",
    "## Summary\n",
    "In this lesson, we looked at Identifying the variance of random variables as a measure of mean deviation. We saw how this measure can be used to first calculate covariance, followed by the correlation to analyze how to change variable effects the change of another variable. Next, we shall see how we can use correlation analysis to run a __regression analysis__ and later, how covariance calculation helps us with dimensionality reduction. "
   ]
  },
  {
   "cell_type": "code",
   "execution_count": null,
   "metadata": {},
   "outputs": [],
   "source": []
  }
 ],
 "metadata": {
  "kernelspec": {
   "display_name": "Python 3",
   "language": "python",
   "name": "python3"
  },
  "language_info": {
   "codemirror_mode": {
    "name": "ipython",
    "version": 3
   },
   "file_extension": ".py",
   "mimetype": "text/x-python",
   "name": "python",
   "nbconvert_exporter": "python",
   "pygments_lexer": "ipython3",
   "version": "3.6.8"
  }
 },
 "nbformat": 4,
 "nbformat_minor": 2
}
